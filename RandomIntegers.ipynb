{
 "cells": [
  {
   "cell_type": "code",
   "execution_count": 12,
   "id": "4c9f2c31-ba8f-4f4b-b501-03e008349b89",
   "metadata": {},
   "outputs": [],
   "source": [
    "# This is the code shown in Topic 1, 1.13 Lecture 4, wrapped in a function.\n",
    "import numpy as np\n",
    "\n",
    "def random_integer_matrix(NumberOfRows : int, NumberOfColumns : int):\n",
    "    MyArray = np.empty(shape=(NumberOfRows, NumberOfColumns), dtype=int)\n",
    "    for i in range(0, NumberOfRows):\n",
    "        for j in range(0, NumberOfColumns):\n",
    "            MyArray[i, j] = np.random.randint(10, 100)\n",
    "    return MyArray\n",
    "    "
   ]
  },
  {
   "cell_type": "code",
   "execution_count": 13,
   "id": "2a428b9a",
   "metadata": {},
   "outputs": [
    {
     "data": {
      "text/plain": [
       "array([[36, 51, 14, 17, 35, 85, 53, 61, 91, 80],\n",
       "       [60, 21, 22, 89, 31, 92, 94, 43, 65, 78],\n",
       "       [95, 65, 64, 47, 99, 61, 22, 45, 74, 56],\n",
       "       [54, 26, 65, 94, 80, 92, 36, 37, 83, 24],\n",
       "       [90, 18, 61, 11, 54, 68, 96, 42, 73, 43],\n",
       "       [95, 18, 80, 62, 13, 51, 57, 52, 64, 94],\n",
       "       [72, 99, 99, 76, 70, 91, 84, 16, 58, 48],\n",
       "       [26, 64, 64, 88, 64, 59, 41, 38, 73, 52],\n",
       "       [97, 18, 20, 70, 97, 48, 70, 75, 74, 99],\n",
       "       [63, 44, 10, 16, 77, 17, 58, 60, 33, 57],\n",
       "       [55, 60, 32, 64, 88, 79, 61, 19, 66, 78],\n",
       "       [83, 43, 84, 83, 24, 88, 43, 15, 96, 70],\n",
       "       [93, 22, 89, 49, 95, 66, 84, 53, 97, 82],\n",
       "       [15, 43, 72, 33, 20, 60, 29, 94, 37, 17],\n",
       "       [59, 71, 61, 62, 70, 98, 10, 73, 52, 46],\n",
       "       [80, 13, 88, 60, 12, 24, 32, 55, 83, 57],\n",
       "       [20, 87, 42, 43, 51, 94, 95, 73, 96, 84],\n",
       "       [21, 63, 47, 82, 19, 46, 44, 32, 50, 44],\n",
       "       [99, 32, 87, 53, 55, 38, 36, 37, 46, 49],\n",
       "       [80, 39, 40, 11, 85, 36, 45, 19, 30, 80],\n",
       "       [74, 79, 10, 87, 47, 48, 79, 62, 58, 70],\n",
       "       [92, 16, 39, 32, 66, 94, 62, 32, 37, 70],\n",
       "       [67, 57, 59, 11, 25, 64, 15, 34, 80, 36],\n",
       "       [80, 94, 70, 66, 45, 24, 93, 70, 30, 49],\n",
       "       [41, 42, 71, 88, 28, 47, 32, 61, 32, 93],\n",
       "       [23, 31, 84, 27, 68, 23, 50, 30, 75, 57],\n",
       "       [30, 86, 11, 34, 66, 30, 59, 71, 38, 64],\n",
       "       [62, 98, 85, 34, 22, 68, 55, 56, 89, 74],\n",
       "       [72, 13, 73, 37, 16, 83, 56, 16, 88, 77],\n",
       "       [11, 63, 86, 41, 77, 28, 48, 47, 10, 10],\n",
       "       [10, 22, 14, 88, 68, 74, 67, 66, 62, 57],\n",
       "       [65, 27, 82, 87, 40, 33, 61, 73, 89, 89],\n",
       "       [95, 66, 48, 88, 14, 96, 32, 79, 72, 52],\n",
       "       [34, 25, 81, 46, 77, 56, 45, 91, 97, 33],\n",
       "       [64, 42, 94, 56, 96, 26, 68, 41, 73, 63],\n",
       "       [35, 11, 87, 20, 29, 79, 44, 10, 11, 98],\n",
       "       [80, 77, 70, 17, 10, 29, 86, 57, 87, 32],\n",
       "       [72, 28, 59, 94, 25, 97, 82, 61, 50, 40],\n",
       "       [23, 71, 86, 72, 91, 89, 88, 68, 72, 56],\n",
       "       [80, 73, 71, 18, 75, 45, 69, 11, 98, 90],\n",
       "       [39, 10, 48, 44, 11, 50, 21, 33, 83, 25],\n",
       "       [29, 26, 19, 41, 30, 28, 53, 74, 72, 39],\n",
       "       [17, 66, 33, 57, 14, 82, 54, 99, 77, 59],\n",
       "       [58, 42, 22, 41, 40, 30, 29, 73, 28, 14],\n",
       "       [42, 11, 95, 68, 60, 52, 91, 99, 14, 31],\n",
       "       [52, 33, 84, 28, 84, 82, 13, 84, 77, 55],\n",
       "       [22, 98, 81, 40, 47, 93, 67, 96, 70, 26],\n",
       "       [46, 61, 63, 74, 31, 43, 46, 86, 63, 92],\n",
       "       [34, 98, 88, 22, 98, 68, 19, 27, 23, 53],\n",
       "       [69, 38, 99, 28, 43, 90, 60, 64, 78, 30]])"
      ]
     },
     "execution_count": 13,
     "metadata": {},
     "output_type": "execute_result"
    }
   ],
   "source": [
    "# Test that the function does what we expect. \n",
    "# Note that we don't need to iterate over the elements to print it. Python will do it for us.\n",
    "random_integer_matrix(50, 10)"
   ]
  },
  {
   "cell_type": "code",
   "execution_count": 14,
   "id": "d98dc9a1-3dfb-4886-aba8-0919e7f48ca7",
   "metadata": {},
   "outputs": [
    {
     "data": {
      "text/plain": [
       "array([[33, 28, 61, 12, 32, 46, 59, 13, 70, 74],\n",
       "       [87, 64, 15, 44, 52, 76, 40, 30, 52, 94],\n",
       "       [23, 46, 64, 93, 44, 63, 19, 47, 78, 55],\n",
       "       [53, 25, 57, 31, 55, 58, 49, 19, 85, 43],\n",
       "       [97, 93, 57, 34, 70, 52, 43, 66, 53, 16],\n",
       "       [99, 67, 66, 92, 70, 25, 89, 32, 56, 24],\n",
       "       [16, 88, 54, 33, 29, 57, 84, 98, 59, 24],\n",
       "       [55, 61, 25, 25, 18, 24, 44, 74, 48, 80],\n",
       "       [97, 38, 53, 69, 57, 18, 15, 95, 62, 37],\n",
       "       [14, 97, 84, 60, 53, 19, 16, 40, 84, 78],\n",
       "       [64, 91, 39, 32, 42, 25, 39, 20, 12, 29],\n",
       "       [59, 25, 24, 98, 21, 60, 55, 94, 26, 39],\n",
       "       [61, 65, 17, 76, 40, 34, 93, 58, 63, 74],\n",
       "       [78, 83, 53, 25, 17, 49, 75, 90, 88, 43],\n",
       "       [86, 15, 76, 11, 16, 70, 49, 77, 50, 14],\n",
       "       [86, 17, 88, 23, 65, 90, 70, 97, 83, 39],\n",
       "       [19, 45, 79, 64, 82, 76, 87, 36, 53, 41],\n",
       "       [46, 62, 14, 76, 25, 67, 89, 88, 45, 30],\n",
       "       [22, 68, 35, 92, 66, 15, 56, 41, 36, 33],\n",
       "       [33, 50, 29, 39, 21, 98, 34, 93, 83, 13],\n",
       "       [41, 13, 77, 66, 21, 89, 24, 47, 35, 13],\n",
       "       [23, 90, 81, 55, 65, 80, 39, 93, 99, 57],\n",
       "       [32, 44, 42, 31, 35, 36, 51, 16, 96, 28],\n",
       "       [90, 30, 73, 65, 74, 91, 44, 86, 77, 14],\n",
       "       [22, 66, 96, 16, 97, 21, 99, 97, 84, 83],\n",
       "       [54, 55, 76, 13, 34, 52, 17, 37, 73, 72],\n",
       "       [34, 94, 21, 12, 38, 33, 18, 86, 57, 22],\n",
       "       [25, 85, 27, 74, 84, 14, 89, 27, 82, 79],\n",
       "       [22, 35, 64, 75, 49, 69, 37, 41, 37, 26],\n",
       "       [10, 38, 79, 77, 53, 15, 21, 29, 45, 20],\n",
       "       [63, 47, 85, 33, 77, 91, 26, 22, 28, 76],\n",
       "       [97, 76, 97, 22, 30, 22, 11, 84, 24, 19],\n",
       "       [98, 19, 23, 55, 14, 83, 24, 26, 66, 92],\n",
       "       [17, 88, 61, 66, 72, 91, 98, 10, 69, 56],\n",
       "       [74, 64, 77, 89, 98, 15, 48, 79, 17, 49],\n",
       "       [44, 53, 36, 18, 92, 55, 51, 51, 23, 63],\n",
       "       [91, 96, 29, 39, 45, 47, 41, 85, 12, 85],\n",
       "       [41, 19, 57, 89, 51, 52, 93, 80, 99, 94],\n",
       "       [68, 34, 68, 30, 54, 48, 86, 43, 28, 97],\n",
       "       [59, 91, 92, 92, 19, 98, 62, 47, 39, 26],\n",
       "       [87, 92, 80, 90, 60, 17, 70, 83, 12, 12],\n",
       "       [70, 99, 14, 88, 61, 95, 32, 10, 74, 33],\n",
       "       [16, 86, 70, 54, 93, 98, 99, 10, 78, 39],\n",
       "       [99, 97, 35, 82, 23, 81, 43, 41, 64, 93],\n",
       "       [11, 31, 42, 81, 57, 78, 70, 61, 31, 28],\n",
       "       [95, 79, 67, 72, 82, 12, 61, 40, 41, 65],\n",
       "       [84, 52, 78, 42, 85, 48, 26, 89, 88, 96],\n",
       "       [26, 81, 92, 54, 48, 66, 28, 80, 53, 60],\n",
       "       [70, 71, 65, 91, 35, 61, 17, 47, 63, 60],\n",
       "       [32, 46, 19, 80, 39, 21, 33, 48, 87, 67]])"
      ]
     },
     "execution_count": 14,
     "metadata": {},
     "output_type": "execute_result"
    }
   ],
   "source": [
    "# A better way to create the same type of random matrix.\n",
    "# We do not need to allocate separately, nor do we have to iterate through each element.\n",
    "# Just ask for random values in the desired array shape.\n",
    "# Really, we should be using the numpy Generator class, as randint() is deprecated.\n",
    "np.random.randint(10, 100, size=(50, 10))\n"
   ]
  },
  {
   "cell_type": "code",
   "execution_count": 15,
   "id": "d67ee116-c88e-4c29-87c0-574e1bdc2227",
   "metadata": {},
   "outputs": [
    {
     "name": "stdout",
     "output_type": "stream",
     "text": [
      "1.3 ms ± 127 µs per loop (mean ± std. dev. of 7 runs, 1,000 loops each)\n"
     ]
    }
   ],
   "source": [
    "# Speed tests\n",
    "%timeit random_integer_matrix(50, 10)\n"
   ]
  },
  {
   "cell_type": "code",
   "execution_count": 16,
   "id": "c7b2ca35-4a91-4453-ac2c-6dc542e8f348",
   "metadata": {},
   "outputs": [
    {
     "name": "stdout",
     "output_type": "stream",
     "text": [
      "14.1 µs ± 234 ns per loop (mean ± std. dev. of 7 runs, 100,000 loops each)\n"
     ]
    }
   ],
   "source": [
    "%timeit np.random.randint(10, 100, size=(50, 10))"
   ]
  },
  {
   "cell_type": "markdown",
   "id": "d0cdc1e0-1d59-4019-ad62-3d1c4518968e",
   "metadata": {},
   "source": [
    "This is a 92 fold improvement."
   ]
  },
  {
   "cell_type": "code",
   "execution_count": 17,
   "id": "d9da0221-a737-4286-97e3-5f0331109e49",
   "metadata": {},
   "outputs": [
    {
     "name": "stdout",
     "output_type": "stream",
     "text": [
      "11.4 s ± 156 ms per loop (mean ± std. dev. of 7 runs, 1 loop each)\n"
     ]
    }
   ],
   "source": [
    "# Let's try it with a bigger matrix. (Still shy of what you'd call big data.)\n",
    "%timeit random_integer_matrix(5000, 1000)"
   ]
  },
  {
   "cell_type": "code",
   "execution_count": 18,
   "id": "1537a0b1-d25a-47ed-904d-eb052486626c",
   "metadata": {},
   "outputs": [
    {
     "name": "stdout",
     "output_type": "stream",
     "text": [
      "57.1 ms ± 687 µs per loop (mean ± std. dev. of 7 runs, 10 loops each)\n"
     ]
    }
   ],
   "source": [
    "# On my computer, this is about 185 times faster than the iterating method. \n",
    "%timeit np.random.randint(10, 100, size=(5000, 1000))"
   ]
  },
  {
   "cell_type": "markdown",
   "id": "95d183bb-0a07-472b-99b6-96bbc5816662",
   "metadata": {},
   "source": [
    "This is a 200 fold imporovement."
   ]
  },
  {
   "cell_type": "markdown",
   "id": "8f64f506",
   "metadata": {},
   "source": [
    "With GPU acceleration and/or parallelization, I expect the speed-up to be even bigger."
   ]
  },
  {
   "cell_type": "code",
   "execution_count": null,
   "id": "4e6d19fb-5144-4e51-a229-6caeb531a271",
   "metadata": {},
   "outputs": [],
   "source": []
  }
 ],
 "metadata": {
  "kernelspec": {
   "display_name": "Python 3 (ipykernel)",
   "language": "python",
   "name": "python3"
  },
  "language_info": {
   "codemirror_mode": {
    "name": "ipython",
    "version": 3
   },
   "file_extension": ".py",
   "mimetype": "text/x-python",
   "name": "python",
   "nbconvert_exporter": "python",
   "pygments_lexer": "ipython3",
   "version": "3.10.11"
  }
 },
 "nbformat": 4,
 "nbformat_minor": 5
}
