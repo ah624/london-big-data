{
 "cells": [
  {
   "cell_type": "code",
   "execution_count": 1,
   "id": "95c5dbe6-bb76-4544-b10e-582c0e6af24a",
   "metadata": {},
   "outputs": [],
   "source": [
    "import numpy as np\n",
    "import timeit\n"
   ]
  },
  {
   "cell_type": "code",
   "execution_count": 2,
   "id": "4c9f2c31-ba8f-4f4b-b501-03e008349b89",
   "metadata": {},
   "outputs": [],
   "source": [
    "# The code shown in Lecture 4, wrapped in a function\n",
    "def random_integer_matrix(NumberOfRows : int, NumberOfColumns : int):\n",
    "    MyArray = np.empty(shape=(NumberOfRows, NumberOfColumns), dtype=int)\n",
    "    for i in range(0, NumberOfRows):\n",
    "        for j in range(0, NumberOfColumns):\n",
    "            MyArray[i, j] = np.random.randint(10, 100)\n",
    "    return MyArray\n",
    "    "
   ]
  },
  {
   "cell_type": "code",
   "execution_count": 3,
   "id": "2a428b9a",
   "metadata": {},
   "outputs": [
    {
     "data": {
      "text/plain": [
       "array([[15, 69, 11, 20, 33, 17, 51, 73, 23, 52],\n",
       "       [72, 91, 38, 18, 34, 84, 45, 35, 50, 41],\n",
       "       [47, 56, 61, 90, 20, 15, 99, 12, 21, 11],\n",
       "       [82, 15, 14, 10, 23, 87, 54, 99, 62, 83],\n",
       "       [69, 30, 33, 96, 91, 45, 34, 26, 18, 88],\n",
       "       [65, 96, 94, 64, 95, 40, 83, 79, 59, 68],\n",
       "       [15, 31, 38, 55, 69, 40, 86, 59, 94, 41],\n",
       "       [55, 75, 79, 35, 78, 30, 55, 20, 26, 61],\n",
       "       [45, 40, 59, 23, 25, 67, 90, 78, 39, 71],\n",
       "       [19, 91, 91, 57, 76, 97, 51, 28, 56, 74],\n",
       "       [30, 79, 53, 17, 89, 66, 40, 82, 12, 37],\n",
       "       [24, 28, 99, 17, 51, 12, 29, 88, 43, 70],\n",
       "       [71, 40, 10, 25, 55, 16, 97, 66, 43, 20],\n",
       "       [43, 96, 68, 58, 83, 95, 64, 60, 32, 68],\n",
       "       [53, 44, 47, 57, 45, 34, 39, 13, 98, 22],\n",
       "       [73, 19, 11, 45, 85, 64, 96, 54, 98, 54],\n",
       "       [70, 75, 44, 72, 52, 20, 12, 36, 74, 23],\n",
       "       [29, 61, 53, 96, 65, 87, 16, 54, 14, 99],\n",
       "       [49, 24, 29, 78, 37, 36, 36, 94, 85, 68],\n",
       "       [49, 23, 32, 51, 25, 21, 76, 79, 64, 64],\n",
       "       [37, 99, 90, 39, 17, 22, 71, 92, 74, 84],\n",
       "       [28, 84, 53, 22, 39, 42, 50, 95, 55, 71],\n",
       "       [66, 33, 59, 74, 66, 11, 32, 56, 27, 27],\n",
       "       [95, 53, 98, 93, 78, 22, 41, 80, 73, 99],\n",
       "       [57, 77, 52, 56, 33, 86, 91, 11, 71, 91],\n",
       "       [61, 31, 72, 32, 72, 42, 52, 40, 36, 15],\n",
       "       [30, 46, 48, 10, 31, 75, 52, 70, 99, 58],\n",
       "       [64, 55, 51, 27, 97, 84, 85, 26, 35, 22],\n",
       "       [77, 75, 22, 75, 54, 13, 50, 39, 99, 85],\n",
       "       [25, 66, 76, 88, 35, 46, 86, 78, 86, 20],\n",
       "       [51, 33, 36, 14, 10, 84, 36, 72, 71, 18],\n",
       "       [82, 13, 68, 49, 12, 45, 19, 30, 57, 45],\n",
       "       [45, 11, 50, 22, 90, 88, 50, 25, 17, 88],\n",
       "       [78, 82, 22, 54, 18, 93, 36, 59, 95, 40],\n",
       "       [46, 16, 14, 66, 94, 45, 45, 30, 96, 48],\n",
       "       [89, 52, 12, 17, 57, 89, 42, 92, 85, 57],\n",
       "       [82, 30, 75, 76, 56, 23, 58, 83, 66, 80],\n",
       "       [63, 11, 70, 58, 92, 51, 61, 46, 60, 40],\n",
       "       [72, 56, 27, 35, 91, 38, 24, 70, 84, 41],\n",
       "       [85, 22, 27, 13, 12, 58, 81, 29, 59, 12],\n",
       "       [99, 66, 67, 65, 49, 93, 20, 72, 20, 75],\n",
       "       [18, 85, 56, 90, 83, 54, 98, 61, 52, 85],\n",
       "       [80, 79, 68, 33, 25, 90, 76, 34, 60, 64],\n",
       "       [12, 66, 40, 57, 51, 92, 25, 13, 41, 93],\n",
       "       [82, 36, 89, 46, 80, 47, 94, 41, 60, 62],\n",
       "       [46, 10, 57, 32, 62, 10, 88, 57, 71, 21],\n",
       "       [71, 44, 96, 53, 69, 73, 25, 97, 66, 24],\n",
       "       [33, 11, 73, 96, 57, 91, 18, 50, 67, 98],\n",
       "       [75, 28, 20, 13, 91, 58, 45, 53, 51, 48],\n",
       "       [84, 43, 94, 23, 99, 97, 67, 45, 47, 25]])"
      ]
     },
     "execution_count": 3,
     "metadata": {},
     "output_type": "execute_result"
    }
   ],
   "source": [
    "# Test that the function does what we expect. \n",
    "# Note that we don't need to iterate over the elements to print it. Python will do it for us.\n",
    "random_integer_matrix(50, 10)"
   ]
  },
  {
   "cell_type": "code",
   "execution_count": 14,
   "id": "d98dc9a1-3dfb-4886-aba8-0919e7f48ca7",
   "metadata": {},
   "outputs": [
    {
     "data": {
      "text/plain": [
       "array([[85, 10, 36, 95, 98, 30, 35, 49, 11, 44],\n",
       "       [43, 51, 49, 83, 64, 50, 96, 46, 35, 49],\n",
       "       [51, 59, 47, 71, 43, 54, 10, 46, 14, 83],\n",
       "       [39, 95, 68, 99, 94, 93, 22, 32, 31, 66],\n",
       "       [71, 72, 64, 91, 18, 87, 37, 59, 21, 77],\n",
       "       [34, 44, 99, 73, 95, 69, 44, 22, 55, 48],\n",
       "       [25, 17, 23, 40, 40, 75, 30, 28, 35, 63],\n",
       "       [83, 77, 69, 13, 98, 45, 28, 14, 40, 62],\n",
       "       [15, 57, 61, 57, 55, 11, 63, 64, 25, 75],\n",
       "       [72, 33, 30, 29, 55, 39, 22, 48, 10, 54],\n",
       "       [20, 14, 33, 70, 62, 64, 51, 76, 79, 66],\n",
       "       [33, 60, 96, 55, 98, 87, 33, 48, 60, 69],\n",
       "       [33, 44, 17, 14, 57, 97, 80, 55, 82, 46],\n",
       "       [40, 53, 95, 12, 20, 13, 29, 19, 54, 53],\n",
       "       [52, 47, 27, 90, 32, 28, 87, 12, 58, 23],\n",
       "       [16, 29, 86, 52, 59, 86, 22, 64, 20, 85],\n",
       "       [17, 95, 69, 71, 30, 45, 82, 86, 93, 77],\n",
       "       [38, 91, 64, 12, 61, 88, 75, 53, 47, 10],\n",
       "       [66, 25, 91, 74, 78, 30, 78, 91, 79, 76],\n",
       "       [69, 40, 45, 38, 12, 53, 10, 41, 13, 19],\n",
       "       [72, 71, 35, 15, 35, 98, 41, 73, 93, 40],\n",
       "       [72, 14, 71, 44, 96, 85, 19, 34, 79, 88],\n",
       "       [79, 11, 33, 48, 68, 72, 16, 77, 19, 57],\n",
       "       [68, 31, 62, 92, 75, 87, 46, 71, 38, 18],\n",
       "       [27, 37, 96, 95, 27, 65, 41, 22, 48, 76],\n",
       "       [53, 89, 64, 98, 34, 74, 79, 59, 57, 63],\n",
       "       [98, 64, 43, 77, 39, 87, 14, 16, 27, 61],\n",
       "       [95, 57, 26, 97, 37, 54, 28, 93, 28, 14],\n",
       "       [30, 21, 18, 89, 97, 15, 29, 22, 97, 26],\n",
       "       [88, 42, 32, 92, 42, 77, 95, 46, 46, 98],\n",
       "       [22, 92, 66, 98, 97, 15, 99, 41, 54, 52],\n",
       "       [86, 35, 57, 98, 79, 58, 47, 35, 86, 30],\n",
       "       [81, 54, 97, 42, 90, 46, 99, 77, 53, 22],\n",
       "       [95, 95, 41, 76, 43, 97, 89, 20, 85, 51],\n",
       "       [32, 30, 95, 38, 87, 43, 27, 15, 74, 12],\n",
       "       [61, 68, 12, 82, 85, 64, 46, 56, 43, 63],\n",
       "       [95, 10, 90, 94, 30, 28, 75, 16, 32, 17],\n",
       "       [45, 62, 74, 70, 72, 85, 55, 48, 94, 56],\n",
       "       [87, 97, 49, 81, 77, 67, 87, 62, 84, 26],\n",
       "       [71, 40, 42, 61, 54, 65, 33, 76, 89, 39],\n",
       "       [21, 73, 98, 49, 83, 52, 90, 22, 13, 65],\n",
       "       [71, 15, 36, 51, 83, 29, 57, 73, 15, 12],\n",
       "       [25, 67, 54, 82, 27, 74, 24, 43, 68, 98],\n",
       "       [45, 24, 82, 13, 94, 46, 55, 29, 46, 30],\n",
       "       [17, 58, 43, 37, 39, 81, 67, 44, 34, 38],\n",
       "       [71, 85, 92, 71, 18, 82, 25, 42, 59, 23],\n",
       "       [88, 98, 27, 35, 12, 29, 44, 54, 20, 42],\n",
       "       [74, 67, 79, 89, 96, 45, 23, 99, 81, 57],\n",
       "       [96, 44, 89, 28, 86, 41, 72, 16, 64, 13],\n",
       "       [24, 48, 79, 96, 43, 49, 22, 50, 60, 79]])"
      ]
     },
     "execution_count": 14,
     "metadata": {},
     "output_type": "execute_result"
    }
   ],
   "source": [
    "# A better way to create the same type of random matrix.\n",
    "# We do not need to allocate separately, nor do we have to iterate through each element.\n",
    "# Just ask for random values in the desired array shape.\n",
    "np.random.randint(10, 100, size=(50, 10))\n"
   ]
  },
  {
   "cell_type": "code",
   "execution_count": 4,
   "id": "d67ee116-c88e-4c29-87c0-574e1bdc2227",
   "metadata": {},
   "outputs": [
    {
     "data": {
      "text/plain": [
       "15.900198300019838"
      ]
     },
     "execution_count": 4,
     "metadata": {},
     "output_type": "execute_result"
    }
   ],
   "source": [
    "# Speed test. We repeat the experiment 10000 times because small time intervals may not be measured accurately.\n",
    "timeit.timeit(lambda: random_integer_matrix(50, 10), number=10000)\n"
   ]
  },
  {
   "cell_type": "code",
   "execution_count": 5,
   "id": "c7b2ca35-4a91-4453-ac2c-6dc542e8f348",
   "metadata": {},
   "outputs": [
    {
     "data": {
      "text/plain": [
       "0.18395560001954436"
      ]
     },
     "execution_count": 5,
     "metadata": {},
     "output_type": "execute_result"
    }
   ],
   "source": [
    "# On my computer, this is about 70 times faster.\n",
    "timeit.timeit(lambda: np.random.randint(10, 100, size=(50, 10)), number=10000)"
   ]
  },
  {
   "cell_type": "code",
   "execution_count": 6,
   "id": "d9da0221-a737-4286-97e3-5f0331109e49",
   "metadata": {},
   "outputs": [
    {
     "data": {
      "text/plain": [
       "139.97093229996972"
      ]
     },
     "execution_count": 6,
     "metadata": {},
     "output_type": "execute_result"
    }
   ],
   "source": [
    "# Let's try it with a bigger matrix. (Still shy of what you'd call big data.)\n",
    "timeit.timeit(lambda: random_integer_matrix(5000, 1000), number=10)"
   ]
  },
  {
   "cell_type": "code",
   "execution_count": 7,
   "id": "1537a0b1-d25a-47ed-904d-eb052486626c",
   "metadata": {},
   "outputs": [
    {
     "data": {
      "text/plain": [
       "0.8890507000032812"
      ]
     },
     "execution_count": 7,
     "metadata": {},
     "output_type": "execute_result"
    }
   ],
   "source": [
    "# On my computer, this is about 185 times faster than the iterating method. \n",
    "timeit.timeit(lambda: np.random.randint(10, 100, size=(5000, 1000)), number=10)"
   ]
  },
  {
   "cell_type": "markdown",
   "id": "8f64f506",
   "metadata": {},
   "source": [
    "With GPU acceleration and/or parallelization, I expect the speed-up to be even bigger."
   ]
  },
  {
   "cell_type": "code",
   "execution_count": null,
   "id": "4e6d19fb-5144-4e51-a229-6caeb531a271",
   "metadata": {},
   "outputs": [],
   "source": []
  }
 ],
 "metadata": {
  "kernelspec": {
   "display_name": "Python 3 (ipykernel)",
   "language": "python",
   "name": "python3"
  },
  "language_info": {
   "codemirror_mode": {
    "name": "ipython",
    "version": 3
   },
   "file_extension": ".py",
   "mimetype": "text/x-python",
   "name": "python",
   "nbconvert_exporter": "python",
   "pygments_lexer": "ipython3",
   "version": "3.10.11"
  }
 },
 "nbformat": 4,
 "nbformat_minor": 5
}
